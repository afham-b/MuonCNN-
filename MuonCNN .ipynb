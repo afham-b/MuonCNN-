{
 "cells": [
  {
   "cell_type": "code",
   "execution_count": 3,
   "metadata": {
    "id": "dr94OQi6qK4k"
   },
   "outputs": [],
   "source": [
    "import pandas as pd\n",
    "import numpy as np\n",
    "import glob\n",
    "import matplotlib.pyplot as plt\n",
    "\n",
    "import tensorflow as tf\n",
    "from tensorflow.keras.preprocessing.image import ImageDataGenerator\n",
    "from tensorflow.keras.utils import to_categorical\n",
    "from tensorflow.keras.models import Model, Sequential\n",
    "from tensorflow.keras.layers import Input, Dense, BatchNormalization, Activation, Dropout\n",
    "from keras.callbacks import ReduceLROnPlateau\n",
    "from tensorflow.keras.optimizers import Adam\n",
    "from sklearn import preprocessing\n",
    "from sklearn.model_selection import train_test_split\n",
    "from sklearn.metrics import confusion_matrix, roc_curve"
   ]
  },
  {
   "cell_type": "code",
   "execution_count": 4,
   "metadata": {
    "id": "k8UzAgh6qRJm"
   },
   "outputs": [],
   "source": [
    "# Plotting utility\n",
    "from IPython.display import clear_output\n",
    "class PlotLosses(tf.keras.callbacks.Callback):\n",
    "    def __init__(self):\n",
    "        self.i = 0\n",
    "        self.x = []\n",
    "        self.losses = []\n",
    "        self.val_losses = []\n",
    "        self.acc = []\n",
    "        self.val_acc = []\n",
    "\n",
    "        self.fig = plt.figure()\n",
    "\n",
    "        self.logs = []\n",
    "\n",
    "    def on_epoch_end(self, epoch, logs={}):\n",
    "\n",
    "        self.logs.append(logs)\n",
    "        self.x.append(self.i)\n",
    "        self.losses.append(logs.get('loss'))\n",
    "        self.val_losses.append(logs.get('val_loss'))\n",
    "\n",
    "        self.acc.append(logs.get('accuracy'))\n",
    "        self.val_acc.append(logs.get('val_accuracy'))\n",
    "        self.i += 1\n",
    "\n",
    "        clear_output(wait=True)\n",
    "        fig, axes = plt.subplots(1,2,figsize=(8,3))\n",
    "\n",
    "        axes[0].plot(self.x, self.losses, label=\"Train loss\")\n",
    "        axes[0].plot(self.x, self.val_losses, label=\"Validation loss\")\n",
    "        # axes[0].set_yscale('log')\n",
    "        axes[0].set_xlabel('Number of epochs')\n",
    "        axes[0].set_ylabel('Losses')\n",
    "        axes[0].legend()\n",
    "\n",
    "        axes[1].plot(self.x, self.acc, label=\"Train accuracy\")\n",
    "        axes[1].plot(self.x, self.val_acc, label=\"Validation accuracy\")\n",
    "        axes[1].set_xlabel('Number of epochs')\n",
    "        axes[1].set_ylabel('Accuracy')\n",
    "        # axes[1].set_ylim(0.85,1.)\n",
    "        axes[1].legend()\n",
    "\n",
    "        plt.tight_layout()\n",
    "        plt.show();"
   ]
  },
  {
   "cell_type": "code",
   "execution_count": 6,
   "metadata": {
    "colab": {
     "base_uri": "https://localhost:8080/"
    },
    "id": "XVMqqbK5tsWr",
    "outputId": "e37550ef-0ab5-4d0b-b352-d96fae6b16a4"
   },
   "outputs": [
    {
     "name": "stdout",
     "output_type": "stream",
     "text": [
      "Collecting photutils\n",
      "  Downloading photutils-1.11.0-cp310-cp310-manylinux_2_5_x86_64.manylinux1_x86_64.manylinux_2_17_x86_64.manylinux2014_x86_64.whl (1.1 MB)\n",
      "\u001b[2K     \u001b[90m━━━━━━━━━━━━━━━━━━━━━━━━━━━━━━━━━━━━━━━━\u001b[0m \u001b[32m1.1/1.1 MB\u001b[0m \u001b[31m5.5 MB/s\u001b[0m eta \u001b[36m0:00:00\u001b[0m\n",
      "\u001b[?25hRequirement already satisfied: numpy>=1.22 in /usr/local/lib/python3.10/dist-packages (from photutils) (1.25.2)\n",
      "Requirement already satisfied: astropy>=5.1 in /usr/local/lib/python3.10/dist-packages (from photutils) (5.3.4)\n",
      "Requirement already satisfied: pyerfa>=2.0 in /usr/local/lib/python3.10/dist-packages (from astropy>=5.1->photutils) (2.0.1.3)\n",
      "Requirement already satisfied: PyYAML>=3.13 in /usr/local/lib/python3.10/dist-packages (from astropy>=5.1->photutils) (6.0.1)\n",
      "Requirement already satisfied: packaging>=19.0 in /usr/local/lib/python3.10/dist-packages (from astropy>=5.1->photutils) (24.0)\n",
      "Installing collected packages: photutils\n",
      "Successfully installed photutils-1.11.0\n"
     ]
    }
   ],
   "source": [
    "!pip install photutils"
   ]
  },
  {
   "cell_type": "code",
   "execution_count": 7,
   "metadata": {
    "id": "rUnZlbVZpnhP"
   },
   "outputs": [],
   "source": [
    "import os\n",
    "import numpy as np\n",
    "from PIL import Image\n",
    "from sklearn.utils import shuffle\n",
    "import matplotlib.pyplot as plt\n",
    "\n",
    "stop_dir = '/content/gdrive/MyDrive/Colab Notebooks/michel_images/michel_images/stop'\n",
    "thru_dir = '/content/gdrive/MyDrive/Colab Notebooks/michel_images/michel_images/thru'\n",
    "\n",
    "def load_images(directory, label):\n",
    "    images = []\n",
    "    labels = []\n",
    "    for filename in os.listdir(directory):\n",
    "        if filename.lower().endswith(('.jpg', '.jpeg')):\n",
    "            filepath = os.path.join(directory, filename)\n",
    "            image = Image.open(filepath)\n",
    "            images.append(np.array(image))\n",
    "            labels.append(label)\n",
    "    return images, labels\n",
    "\n",
    "# Load and label the images from each directory\n",
    "stop_images, stop_labels = load_images(stop_dir, label=0)  # Label 'stop' muons as 0\n",
    "thru_images, thru_labels = load_images(thru_dir, label=1)  # Label 'thru' muons as 1\n",
    "\n",
    "# Combine and shuffle the datasets\n",
    "all_images = np.array(stop_images + thru_images)\n",
    "all_labels = np.array(stop_labels + thru_labels)\n",
    "all_images, all_labels = shuffle(all_images, all_labels, random_state=0)\n"
   ]
  },
  {
   "cell_type": "code",
   "execution_count": 8,
   "metadata": {
    "colab": {
     "base_uri": "https://localhost:8080/"
    },
    "id": "JQASf5E6p1Hj",
    "outputId": "a595bcac-430d-4124-b05f-02cf2b5b68a8"
   },
   "outputs": [
    {
     "name": "stdout",
     "output_type": "stream",
     "text": [
      "Normalized image data:\n",
      "[[[0.03529412 0.03529412 0.03529412 ... 0.03921569 0.03921569 0.03529412]\n",
      "  [0.02352941 0.02352941 0.02352941 ... 0.02745098 0.02745098 0.02745098]\n",
      "  [0.03137255 0.03137255 0.03137255 ... 0.02352941 0.02352941 0.02352941]\n",
      "  ...\n",
      "  [0.02745098 0.02745098 0.02745098 ... 0.02745098 0.02745098 0.02745098]\n",
      "  [0.02745098 0.02745098 0.02745098 ... 0.03137255 0.02745098 0.02745098]\n",
      "  [0.02745098 0.02745098 0.02745098 ... 0.03137255 0.03137255 0.02745098]]\n",
      "\n",
      " [[0.02745098 0.02745098 0.02745098 ... 0.02352941 0.02745098 0.03137255]\n",
      "  [0.02745098 0.02745098 0.02745098 ... 0.01176471 0.01568628 0.01568628]\n",
      "  [0.02745098 0.02745098 0.02745098 ... 0.02352941 0.02352941 0.02745098]\n",
      "  ...\n",
      "  [0.02352941 0.02352941 0.02745098 ... 0.03137255 0.02745098 0.02352941]\n",
      "  [0.03137255 0.03137255 0.02745098 ... 0.03137255 0.03137255 0.03137255]\n",
      "  [0.03529412 0.03137255 0.03137255 ... 0.03529412 0.03529412 0.03529412]]\n",
      "\n",
      " [[0.02745098 0.02745098 0.02745098 ... 0.02745098 0.02745098 0.03137255]\n",
      "  [0.02745098 0.02745098 0.02745098 ... 0.02745098 0.02745098 0.03137255]\n",
      "  [0.02745098 0.02745098 0.02745098 ... 0.02745098 0.03137255 0.03137255]\n",
      "  ...\n",
      "  [0.02352941 0.02745098 0.02745098 ... 0.03137255 0.03137255 0.03137255]\n",
      "  [0.02352941 0.02352941 0.03137255 ... 0.03137255 0.03137255 0.03137255]\n",
      "  [0.01960784 0.02352941 0.03137255 ... 0.03137255 0.03137255 0.03137255]]\n",
      "\n",
      " ...\n",
      "\n",
      " [[0.02352941 0.02352941 0.02352941 ... 0.03529412 0.03529412 0.03529412]\n",
      "  [0.02745098 0.02745098 0.02745098 ... 0.03137255 0.03137255 0.03137255]\n",
      "  [0.03137255 0.03137255 0.03137255 ... 0.02745098 0.02745098 0.02745098]\n",
      "  ...\n",
      "  [0.03137255 0.03137255 0.02745098 ... 0.03921569 0.03921569 0.03921569]\n",
      "  [0.03529412 0.03529412 0.03137255 ... 0.03921569 0.03529412 0.03529412]\n",
      "  [0.03921569 0.03921569 0.03921569 ... 0.03529412 0.03529412 0.03137255]]\n",
      "\n",
      " [[0.01176471 0.02352941 0.03529412 ... 0.02745098 0.02745098 0.02745098]\n",
      "  [0.01568628 0.02352941 0.03137255 ... 0.02745098 0.02745098 0.03137255]\n",
      "  [0.01960784 0.02745098 0.03137255 ... 0.02352941 0.02745098 0.02745098]\n",
      "  ...\n",
      "  [0.02745098 0.02745098 0.02745098 ... 0.02352941 0.02352941 0.02745098]\n",
      "  [0.02745098 0.02745098 0.02745098 ... 0.02352941 0.02352941 0.02745098]\n",
      "  [0.02745098 0.02745098 0.02745098 ... 0.02352941 0.02352941 0.02745098]]\n",
      "\n",
      " [[0.01568628 0.01568628 0.01568628 ... 0.01568628 0.01568628 0.01568628]\n",
      "  [0.01568628 0.01568628 0.01568628 ... 0.01568628 0.01568628 0.01568628]\n",
      "  [0.01568628 0.01568628 0.01568628 ... 0.01568628 0.01568628 0.01568628]\n",
      "  ...\n",
      "  [0.01568628 0.01568628 0.01568628 ... 0.01176471 0.01176471 0.01176471]\n",
      "  [0.01568628 0.01568628 0.01568628 ... 0.01176471 0.01176471 0.01176471]\n",
      "  [0.01568628 0.01568628 0.01568628 ... 0.01176471 0.01176471 0.01176471]]]\n",
      "Shape of the normalized image array: (1372, 480, 300)\n"
     ]
    }
   ],
   "source": [
    "# Normalize the images by dividing each pixel value by 255\n",
    "normalized_images = all_images.astype(np.float32) / 255.0\n",
    "\n",
    "# Display the normalized array\n",
    "print(\"Normalized image data:\")\n",
    "print(normalized_images)\n",
    "\n",
    "# Optionally, you can show the shape of the array to confirm its structure\n",
    "print(\"Shape of the normalized image array:\", normalized_images.shape)"
   ]
  },
  {
   "cell_type": "code",
   "execution_count": 9,
   "metadata": {
    "id": "wgn7pBzvqA2y"
   },
   "outputs": [],
   "source": [
    "# build the CNN and train\n",
    "import numpy as np\n",
    "import tensorflow as tf\n",
    "from tensorflow.keras import layers, models\n",
    "from sklearn.model_selection import train_test_split"
   ]
  },
  {
   "cell_type": "markdown",
   "metadata": {
    "id": "rEwfnZU6oD6F"
   },
   "source": []
  },
  {
   "cell_type": "code",
   "execution_count": 10,
   "metadata": {
    "colab": {
     "base_uri": "https://localhost:8080/"
    },
    "id": "a99itdYjmdCo",
    "outputId": "453890a4-34f3-4aab-c985-668f735f5fa6"
   },
   "outputs": [
    {
     "name": "stdout",
     "output_type": "stream",
     "text": [
      "X_train shape: (1097, 480, 300, 1)\n",
      "X_test shape: (275, 480, 300, 1)\n"
     ]
    }
   ],
   "source": [
    "X_train, X_test, y_train, y_test = train_test_split(normalized_images, all_labels, test_size=0.2, random_state=42)\n",
    "\n",
    "# Assuming images are grayscale and reshaping them to include the channel dimension\n",
    "X_train = X_train.reshape(X_train.shape[0], X_train.shape[1], X_train.shape[2], 1)\n",
    "X_test = X_test.reshape(X_test.shape[0], X_test.shape[1], X_test.shape[2], 1)\n",
    "\n",
    "print(\"X_train shape:\", X_train.shape)\n",
    "print(\"X_test shape:\", X_test.shape)\n"
   ]
  },
  {
   "cell_type": "code",
   "execution_count": 91,
   "metadata": {
    "colab": {
     "base_uri": "https://localhost:8080/"
    },
    "id": "FpXXp32lqCma",
    "outputId": "84d29447-deed-4367-9b5b-339dd81f44fb"
   },
   "outputs": [
    {
     "name": "stdout",
     "output_type": "stream",
     "text": [
      "Epoch 1/10\n",
      "6/6 [==============================] - 4s 345ms/step - loss: 0.6274 - accuracy: 0.6563 - val_loss: 0.3875 - val_accuracy: 1.0000\n",
      "Epoch 2/10\n",
      "6/6 [==============================] - 1s 197ms/step - loss: 0.3344 - accuracy: 1.0000 - val_loss: 0.2103 - val_accuracy: 0.9891\n",
      "Epoch 3/10\n",
      "6/6 [==============================] - 1s 167ms/step - loss: 0.1663 - accuracy: 0.9973 - val_loss: 0.1005 - val_accuracy: 1.0000\n",
      "Epoch 4/10\n",
      "6/6 [==============================] - 1s 127ms/step - loss: 0.0809 - accuracy: 0.9982 - val_loss: 0.0536 - val_accuracy: 0.9927\n",
      "Epoch 5/10\n",
      "6/6 [==============================] - 1s 137ms/step - loss: 0.0444 - accuracy: 0.9982 - val_loss: 0.0320 - val_accuracy: 0.9964\n",
      "Epoch 6/10\n",
      "6/6 [==============================] - 1s 163ms/step - loss: 0.0281 - accuracy: 0.9982 - val_loss: 0.0215 - val_accuracy: 1.0000\n",
      "Epoch 7/10\n",
      "6/6 [==============================] - 1s 130ms/step - loss: 0.0191 - accuracy: 0.9991 - val_loss: 0.0150 - val_accuracy: 1.0000\n",
      "Epoch 8/10\n",
      "6/6 [==============================] - 1s 161ms/step - loss: 0.0138 - accuracy: 0.9991 - val_loss: 0.0116 - val_accuracy: 1.0000\n",
      "Epoch 9/10\n",
      "6/6 [==============================] - 1s 161ms/step - loss: 0.0107 - accuracy: 0.9991 - val_loss: 0.0092 - val_accuracy: 1.0000\n",
      "Epoch 10/10\n",
      "6/6 [==============================] - 1s 119ms/step - loss: 0.0090 - accuracy: 0.9991 - val_loss: 0.0076 - val_accuracy: 1.0000\n",
      "9/9 - 0s - loss: 0.0076 - accuracy: 1.0000 - 125ms/epoch - 14ms/step\n",
      "\n",
      "Test accuracy: 1.0\n"
     ]
    }
   ],
   "source": [
    "# Define the CNN architecture with the updated input shape\n",
    "model = models.Sequential([\n",
    "    layers.Conv2D(4, (2, 2), activation='relu', input_shape=(480, 300, 1)),  # Updated input shape\n",
    "    #layers.SpatialDropout2D(0.25),\n",
    "    layers.MaxPooling2D((2, 2)),\n",
    "    #layers.Conv2D(64, (3, 3), activation='relu'),\n",
    "    #layers.MaxPooling2D((2, 2)),\n",
    "    #layers.Conv2D(64, (3, 3), activation='relu'),\n",
    "    #layers.MaxPooling2D((2, 2)),\n",
    "    layers.Flatten(),\n",
    "    layers.Dense(4, activation='relu'),\n",
    "    #layers.Dropout(0.25),\n",
    "    layers.Dense(2, activation='softmax')  # Using softmax for binary classification\n",
    "])\n",
    "\n",
    "# Compile the model\n",
    "model.compile(optimizer='adam',\n",
    "              loss='sparse_categorical_crossentropy',\n",
    "              metrics=['accuracy'])\n",
    "\n",
    "# Train the model\n",
    "history = model.fit(X_train, y_train, batch_size=200, epochs=10, validation_data=(X_test, y_test))\n",
    "\n",
    "# Evaluate the model\n",
    "test_loss, test_acc = model.evaluate(X_test, y_test, verbose=2)\n",
    "print('\\nTest accuracy:', test_acc)\n"
   ]
  },
  {
   "cell_type": "code",
   "execution_count": 93,
   "metadata": {
    "colab": {
     "base_uri": "https://localhost:8080/",
     "height": 487
    },
    "id": "aioeZuppns9C",
    "outputId": "49e65b71-2df8-469c-b5d3-3aaca75d5085"
   },
   "outputs": [
    {
     "data": {
      "image/png": "[encoded data removed]",
      "text/plain": [
       "<Figure size 1200x500 with 2 Axes>"
      ]
     },
     "metadata": {},
     "output_type": "display_data"
    }
   ],
   "source": [
    "#look at performance\n",
    "\n",
    "# Plotting training and validation accuracy\n",
    "plt.figure(figsize=(12, 5))\n",
    "plt.subplot(1, 2, 1)\n",
    "plt.plot(history.history['accuracy'], label='Train Accuracy')\n",
    "plt.plot(history.history['val_accuracy'], label='Validation Accuracy')\n",
    "plt.title('Model Accuracy')\n",
    "plt.xlabel('Epoch')\n",
    "plt.ylabel('Accuracy')\n",
    "plt.legend(loc='upper left')\n",
    "\n",
    "# Plotting training and validation loss\n",
    "plt.subplot(1, 2, 2)\n",
    "plt.plot(history.history['loss'], label='Train Loss')\n",
    "plt.plot(history.history['val_loss'], label='Validation Loss')\n",
    "plt.title('Model Loss')\n",
    "plt.xlabel('Epoch')\n",
    "plt.ylabel('Loss')\n",
    "plt.legend(loc='upper right')\n",
    "\n",
    "plt.show()"
   ]
  },
  {
   "cell_type": "code",
   "execution_count": 94,
   "metadata": {
    "colab": {
     "base_uri": "https://localhost:8080/"
    },
    "id": "rLr9NS8mtII1",
    "outputId": "e5bcc331-bb86-4eb0-bbb1-1a641c9b2fdf"
   },
   "outputs": [
    {
     "name": "stdout",
     "output_type": "stream",
     "text": [
      "Test Loss: 0.007556029129773378\n",
      "Test Accuracy: 1.0\n"
     ]
    }
   ],
   "source": [
    "# Printing the test accuracy and loss\n",
    "print('Test Loss:', test_loss)\n",
    "print('Test Accuracy:', test_acc)"
   ]
  },
  {
   "cell_type": "code",
   "execution_count": 97,
   "metadata": {
    "colab": {
     "base_uri": "https://localhost:8080/",
     "height": 581
    },
    "id": "xKAm_BOjtIzt",
    "outputId": "ea63b703-09ea-4939-b25b-f56c17be9521"
   },
   "outputs": [
    {
     "name": "stdout",
     "output_type": "stream",
     "text": [
      "9/9 [==============================] - 0s 28ms/step\n"
     ]
    },
    {
     "data": {
      "image/png": "[encoded data removed]",
      "text/plain": [
       "<Figure size 600x600 with 1 Axes>"
      ]
     },
     "metadata": {},
     "output_type": "display_data"
    }
   ],
   "source": [
    "from sklearn.metrics import confusion_matrix\n",
    "import seaborn as sns\n",
    "\n",
    "# Predict classes on the test set\n",
    "y_pred = model.predict(X_test)\n",
    "y_pred_classes = np.argmax(y_pred, axis=1)\n",
    "\n",
    "# Compute the confusion matrix\n",
    "cm = confusion_matrix(y_test, y_pred_classes)\n",
    "\n",
    "# Plotting the confusion matrix\n",
    "plt.figure(figsize=(6,6))\n",
    "sns.heatmap(cm, annot=True, fmt='d', cmap='Blues', cbar=False)\n",
    "plt.xlabel('Predicted Label')\n",
    "plt.ylabel('True Label')\n",
    "plt.title('Confusion Matrix')\n",
    "plt.show()\n",
    "\n",
    "#print(y_pred)"
   ]
  },
  {
   "cell_type": "code",
   "execution_count": null,
   "metadata": {
    "colab": {
     "base_uri": "https://localhost:8080/",
     "height": 472
    },
    "id": "fLx4fdiztLGk",
    "outputId": "6a696e2d-0954-4abd-8fd3-50afe31dc8b9"
   },
   "outputs": [],
   "source": [
    "from sklearn.metrics import roc_curve, auc\n",
    "\n",
    "# Calculate the ROC curve\n",
    "fpr, tpr, thresholds = roc_curve(y_test, y_pred[:, 1])\n",
    "roc_auc = auc(fpr, tpr)\n",
    "\n",
    "# Plot the ROC curve\n",
    "plt.figure()\n",
    "plt.plot(fpr, tpr, color='darkorange', lw=2, label='ROC curve (area = %0.2f)' % roc_auc)\n",
    "plt.plot([0, 1], [0, 1], color='navy', lw=2, linestyle='--')\n",
    "plt.xlim([0.0, 1.0])\n",
    "plt.ylim([0.0, 1.05])\n",
    "plt.xlabel('False Positive Rate')\n",
    "plt.ylabel('True Positive Rate')\n",
    "plt.title('Receiver Operating Characteristic')\n",
    "plt.legend(loc=\"lower right\")\n",
    "plt.show()\n"
   ]
  }
 ],
 "metadata": {
  "accelerator": "GPU",
  "colab": {
   "gpuType": "T4",
   "provenance": []
  },
  "kernelspec": {
   "display_name": "Python 3 (ipykernel)",
   "language": "python",
   "name": "python3"
  },
  "language_info": {
   "codemirror_mode": {
    "name": "ipython",
    "version": 3
   },
   "file_extension": ".py",
   "mimetype": "text/x-python",
   "name": "python",
   "nbconvert_exporter": "python",
   "pygments_lexer": "ipython3",
   "version": "3.11.4"
  }
 },
 "nbformat": 4,
 "nbformat_minor": 1
}
